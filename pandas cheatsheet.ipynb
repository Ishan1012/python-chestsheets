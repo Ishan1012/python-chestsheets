{
 "cells": [
  {
   "cell_type": "markdown",
   "id": "e57880b7-e507-4e80-a3e3-338b5ea89fa3",
   "metadata": {},
   "source": [
    "# Pandas Cheatsheet"
   ]
  },
  {
   "cell_type": "markdown",
   "id": "78e5561f-d300-45d7-825a-60debde4dd55",
   "metadata": {},
   "source": [
    "## Introduction"
   ]
  },
  {
   "cell_type": "markdown",
   "id": "9bc05740-0100-455f-8bf2-102a4f806344",
   "metadata": {},
   "source": [
    "### Importing pandas "
   ]
  },
  {
   "cell_type": "code",
   "execution_count": 1,
   "id": "ddf5e5a5-b489-447e-a3fb-b675421fbde4",
   "metadata": {},
   "outputs": [],
   "source": [
    "import pandas as pd"
   ]
  },
  {
   "cell_type": "markdown",
   "id": "299bda47-4fc3-440b-a58d-7e651bb94892",
   "metadata": {},
   "source": [
    "### Q.1. Create a Series with following elements using a list"
   ]
  },
  {
   "cell_type": "code",
   "execution_count": 4,
   "id": "e587ca7d-23da-43dd-9e17-a88aba41f1b5",
   "metadata": {},
   "outputs": [
    {
     "data": {
      "text/plain": [
       "0    10\n",
       "1    20\n",
       "2    30\n",
       "3    40\n",
       "dtype: int64"
      ]
     },
     "execution_count": 4,
     "metadata": {},
     "output_type": "execute_result"
    }
   ],
   "source": [
    "s1 = pd.Series([10, 20, 30, 40])\n",
    "s1"
   ]
  },
  {
   "cell_type": "code",
   "execution_count": 6,
   "id": "b42a6e11-4a84-46b3-a17d-9f7fa779edd5",
   "metadata": {},
   "outputs": [
    {
     "data": {
      "text/plain": [
       "a    10\n",
       "b    20\n",
       "c    30\n",
       "d    40\n",
       "dtype: int64"
      ]
     },
     "execution_count": 6,
     "metadata": {},
     "output_type": "execute_result"
    }
   ],
   "source": [
    "s2 = pd.Series([10, 20, 30, 40], index = ['a','b','c','d'])\n",
    "s2"
   ]
  },
  {
   "cell_type": "markdown",
   "id": "a9da51cc-131f-454f-ad0f-72a09242bf8c",
   "metadata": {},
   "source": [
    "### Q.2. Create a Series with following elements using a dictionary"
   ]
  },
  {
   "cell_type": "code",
   "execution_count": 7,
   "id": "4e672f6c-81fb-4a81-a8f8-f251e55741bb",
   "metadata": {},
   "outputs": [
    {
     "data": {
      "text/plain": [
       "a    10\n",
       "b    20\n",
       "c    30\n",
       "d    40\n",
       "dtype: int64"
      ]
     },
     "execution_count": 7,
     "metadata": {},
     "output_type": "execute_result"
    }
   ],
   "source": [
    "s3 = pd.Series({'a':10,'b':20,'c':30,'d':40})\n",
    "s3"
   ]
  },
  {
   "cell_type": "markdown",
   "id": "60ab9728-ba39-4f74-bcdb-80a1262e0a87",
   "metadata": {},
   "source": [
    "### Q.3. Create a Series using a scalar"
   ]
  },
  {
   "cell_type": "code",
   "execution_count": 8,
   "id": "e42b33e4-062b-45b5-aabb-7841254e8e2b",
   "metadata": {},
   "outputs": [
    {
     "data": {
      "text/plain": [
       "a    5\n",
       "b    5\n",
       "c    5\n",
       "d    5\n",
       "dtype: int64"
      ]
     },
     "execution_count": 8,
     "metadata": {},
     "output_type": "execute_result"
    }
   ],
   "source": [
    "s4 = pd.Series(5, index=['a','b','c','d'])\n",
    "s4"
   ]
  },
  {
   "cell_type": "markdown",
   "id": "2c323037-1444-4e7b-9c2f-e52fc8299a06",
   "metadata": {},
   "source": [
    "### Q.4. Access the second element from the Series s3"
   ]
  },
  {
   "cell_type": "code",
   "execution_count": 10,
   "id": "10e1c946-65a5-4f70-ae2a-4f746c84a5f2",
   "metadata": {},
   "outputs": [
    {
     "name": "stdout",
     "output_type": "stream",
     "text": [
      "Using keys: 20\n",
      "Using index: 20\n"
     ]
    },
    {
     "name": "stderr",
     "output_type": "stream",
     "text": [
      "C:\\Users\\ISHAN\\AppData\\Local\\Temp\\ipykernel_7984\\1836220628.py:2: FutureWarning: Series.__getitem__ treating keys as positions is deprecated. In a future version, integer keys will always be treated as labels (consistent with DataFrame behavior). To access a value by position, use `ser.iloc[pos]`\n",
      "  print('Using index:',s3[1])\n"
     ]
    }
   ],
   "source": [
    "print('Using keys:',s3['b'])\n",
    "print('Using index:',s3[1])"
   ]
  },
  {
   "cell_type": "markdown",
   "id": "393ba2be-054e-4440-b20c-43b1a97841a4",
   "metadata": {},
   "source": [
    "## Vector operations on Series"
   ]
  },
  {
   "cell_type": "code",
   "execution_count": 14,
   "id": "496330ea-06fb-479f-9096-1952ecd62e07",
   "metadata": {},
   "outputs": [
    {
     "name": "stdout",
     "output_type": "stream",
     "text": [
      "a    15\n",
      "b    25\n",
      "c    35\n",
      "d    45\n",
      "dtype: int64\n"
     ]
    }
   ],
   "source": [
    "s6 = s3+s4\n",
    "print(s6)"
   ]
  },
  {
   "cell_type": "code",
   "execution_count": 15,
   "id": "f3d8c782-5ff6-44c1-b2a5-6b6589ff65ee",
   "metadata": {},
   "outputs": [
    {
     "name": "stdout",
     "output_type": "stream",
     "text": [
      "0   NaN\n",
      "1   NaN\n",
      "2   NaN\n",
      "3   NaN\n",
      "a   NaN\n",
      "b   NaN\n",
      "c   NaN\n",
      "d   NaN\n",
      "dtype: float64\n"
     ]
    }
   ],
   "source": [
    "s5 = s1+s3\n",
    "print(s5)"
   ]
  },
  {
   "cell_type": "code",
   "execution_count": 23,
   "id": "2c7fbaa4-654d-4ee2-b7bf-6e0d89204812",
   "metadata": {},
   "outputs": [
    {
     "data": {
      "text/plain": [
       "a    100\n",
       "d    200\n",
       "e    300\n",
       "f    400\n",
       "dtype: int64"
      ]
     },
     "execution_count": 23,
     "metadata": {},
     "output_type": "execute_result"
    }
   ],
   "source": [
    "s7 = pd.Series([100,200,300,400], index=['a','d','e','f'])\n",
    "s7"
   ]
  },
  {
   "cell_type": "code",
   "execution_count": 24,
   "id": "8ae18ae0-5506-4f10-8724-cb63a7631907",
   "metadata": {},
   "outputs": [
    {
     "data": {
      "text/plain": [
       "a    105.0\n",
       "b      NaN\n",
       "c      NaN\n",
       "d    205.0\n",
       "e      NaN\n",
       "f      NaN\n",
       "dtype: float64"
      ]
     },
     "execution_count": 24,
     "metadata": {},
     "output_type": "execute_result"
    }
   ],
   "source": [
    "s8 = s4+s7\n",
    "s8"
   ]
  },
  {
   "cell_type": "markdown",
   "id": "f1e0711a-42fa-4abc-a107-5509febf0bcc",
   "metadata": {},
   "source": [
    "## Dataframes in Pandas"
   ]
  },
  {
   "cell_type": "markdown",
   "id": "4097bf90-1fce-4abd-8bb1-112abecc61fa",
   "metadata": {},
   "source": [
    "### Q.5. Create a dataframe to store students personal detail like: first name, last name, age and city. Store the details of at least 5 students."
   ]
  },
  {
   "cell_type": "code",
   "execution_count": 26,
   "id": "3892366b-a9dc-41cf-b938-d0605f0542b7",
   "metadata": {},
   "outputs": [
    {
     "data": {
      "text/html": [
       "<div>\n",
       "<style scoped>\n",
       "    .dataframe tbody tr th:only-of-type {\n",
       "        vertical-align: middle;\n",
       "    }\n",
       "\n",
       "    .dataframe tbody tr th {\n",
       "        vertical-align: top;\n",
       "    }\n",
       "\n",
       "    .dataframe thead th {\n",
       "        text-align: right;\n",
       "    }\n",
       "</style>\n",
       "<table border=\"1\" class=\"dataframe\">\n",
       "  <thead>\n",
       "    <tr style=\"text-align: right;\">\n",
       "      <th></th>\n",
       "      <th>fname</th>\n",
       "      <th>lname</th>\n",
       "      <th>age</th>\n",
       "      <th>city</th>\n",
       "    </tr>\n",
       "  </thead>\n",
       "  <tbody>\n",
       "    <tr>\n",
       "      <th>0</th>\n",
       "      <td>Alice</td>\n",
       "      <td>Potter</td>\n",
       "      <td>19</td>\n",
       "      <td>KNP</td>\n",
       "    </tr>\n",
       "    <tr>\n",
       "      <th>1</th>\n",
       "      <td>Bob</td>\n",
       "      <td>Williamson</td>\n",
       "      <td>21</td>\n",
       "      <td>LKO</td>\n",
       "    </tr>\n",
       "    <tr>\n",
       "      <th>2</th>\n",
       "      <td>Charlie</td>\n",
       "      <td>Potter</td>\n",
       "      <td>22</td>\n",
       "      <td>LKO</td>\n",
       "    </tr>\n",
       "    <tr>\n",
       "      <th>3</th>\n",
       "      <td>Sam</td>\n",
       "      <td>Babbage</td>\n",
       "      <td>22</td>\n",
       "      <td>KNP</td>\n",
       "    </tr>\n",
       "    <tr>\n",
       "      <th>4</th>\n",
       "      <td>Harry</td>\n",
       "      <td>Potter</td>\n",
       "      <td>23</td>\n",
       "      <td>KNP</td>\n",
       "    </tr>\n",
       "  </tbody>\n",
       "</table>\n",
       "</div>"
      ],
      "text/plain": [
       "     fname       lname  age city\n",
       "0    Alice      Potter   19  KNP\n",
       "1      Bob  Williamson   21  LKO\n",
       "2  Charlie      Potter   22  LKO\n",
       "3      Sam     Babbage   22  KNP\n",
       "4    Harry      Potter   23  KNP"
      ]
     },
     "execution_count": 26,
     "metadata": {},
     "output_type": "execute_result"
    }
   ],
   "source": [
    "df1 = pd.DataFrame({\n",
    "    'fname': ['Alice','Bob','Charlie','Sam','Harry'],\n",
    "    'lname': ['Potter','Williamson','Potter','Babbage','Potter'],\n",
    "    'age': [19, 21, 22, 22, 23],\n",
    "    'city': ['KNP','LKO','LKO','KNP','KNP']\n",
    "})\n",
    "df1"
   ]
  },
  {
   "cell_type": "markdown",
   "id": "db246258-c6f3-412b-862c-0e954ec14c8f",
   "metadata": {},
   "source": [
    "### Q.6. Create a similar dataframe but using Series."
   ]
  },
  {
   "cell_type": "code",
   "execution_count": 27,
   "id": "97c83183-5747-435a-806a-726793365506",
   "metadata": {},
   "outputs": [
    {
     "data": {
      "text/html": [
       "<div>\n",
       "<style scoped>\n",
       "    .dataframe tbody tr th:only-of-type {\n",
       "        vertical-align: middle;\n",
       "    }\n",
       "\n",
       "    .dataframe tbody tr th {\n",
       "        vertical-align: top;\n",
       "    }\n",
       "\n",
       "    .dataframe thead th {\n",
       "        text-align: right;\n",
       "    }\n",
       "</style>\n",
       "<table border=\"1\" class=\"dataframe\">\n",
       "  <thead>\n",
       "    <tr style=\"text-align: right;\">\n",
       "      <th></th>\n",
       "      <th>fname</th>\n",
       "      <th>lname</th>\n",
       "      <th>age</th>\n",
       "      <th>city</th>\n",
       "    </tr>\n",
       "  </thead>\n",
       "  <tbody>\n",
       "    <tr>\n",
       "      <th>0</th>\n",
       "      <td>Alice</td>\n",
       "      <td>Potter</td>\n",
       "      <td>19</td>\n",
       "      <td>KNP</td>\n",
       "    </tr>\n",
       "    <tr>\n",
       "      <th>1</th>\n",
       "      <td>Bob</td>\n",
       "      <td>Williamson</td>\n",
       "      <td>21</td>\n",
       "      <td>LKO</td>\n",
       "    </tr>\n",
       "    <tr>\n",
       "      <th>2</th>\n",
       "      <td>Charlie</td>\n",
       "      <td>Potter</td>\n",
       "      <td>22</td>\n",
       "      <td>LKO</td>\n",
       "    </tr>\n",
       "    <tr>\n",
       "      <th>3</th>\n",
       "      <td>Sam</td>\n",
       "      <td>Babbage</td>\n",
       "      <td>22</td>\n",
       "      <td>KNP</td>\n",
       "    </tr>\n",
       "    <tr>\n",
       "      <th>4</th>\n",
       "      <td>Harry</td>\n",
       "      <td>Potter</td>\n",
       "      <td>23</td>\n",
       "      <td>KNP</td>\n",
       "    </tr>\n",
       "  </tbody>\n",
       "</table>\n",
       "</div>"
      ],
      "text/plain": [
       "     fname       lname  age city\n",
       "0    Alice      Potter   19  KNP\n",
       "1      Bob  Williamson   21  LKO\n",
       "2  Charlie      Potter   22  LKO\n",
       "3      Sam     Babbage   22  KNP\n",
       "4    Harry      Potter   23  KNP"
      ]
     },
     "execution_count": 27,
     "metadata": {},
     "output_type": "execute_result"
    }
   ],
   "source": [
    "s1 = pd.Series(['Alice','Bob','Charlie','Sam','Harry'])\n",
    "s2 = pd.Series(['Potter','Williamson','Potter','Babbage','Potter'])\n",
    "s3 = pd.Series([19, 21, 22, 22, 23])\n",
    "s4 = pd.Series(['KNP','LKO','LKO','KNP','KNP'])\n",
    "\n",
    "df2 = pd.DataFrame({\n",
    "    'fname': s1,\n",
    "    'lname': s2,\n",
    "    'age': s3,\n",
    "    'city': s4\n",
    "})\n",
    "df2"
   ]
  },
  {
   "cell_type": "markdown",
   "id": "527bb47b-327b-4fd9-ae58-4804028bf228",
   "metadata": {},
   "source": [
    "### Q.7. Print the age of all the students"
   ]
  },
  {
   "cell_type": "code",
   "execution_count": 30,
   "id": "2b402396-c89b-479e-93c3-3d724636e885",
   "metadata": {},
   "outputs": [
    {
     "data": {
      "text/plain": [
       "0    19\n",
       "1    21\n",
       "2    22\n",
       "3    22\n",
       "4    23\n",
       "Name: age, dtype: int64"
      ]
     },
     "execution_count": 30,
     "metadata": {},
     "output_type": "execute_result"
    }
   ],
   "source": [
    "df1['age']"
   ]
  },
  {
   "cell_type": "markdown",
   "id": "cf294bd1-ed06-4966-a601-2e1d458260dc",
   "metadata": {},
   "source": [
    "### Q.8. Print last name and city for all the students"
   ]
  },
  {
   "cell_type": "code",
   "execution_count": 32,
   "id": "5338416f-fb7a-4635-93fe-a083a52b1c4c",
   "metadata": {},
   "outputs": [
    {
     "data": {
      "text/html": [
       "<div>\n",
       "<style scoped>\n",
       "    .dataframe tbody tr th:only-of-type {\n",
       "        vertical-align: middle;\n",
       "    }\n",
       "\n",
       "    .dataframe tbody tr th {\n",
       "        vertical-align: top;\n",
       "    }\n",
       "\n",
       "    .dataframe thead th {\n",
       "        text-align: right;\n",
       "    }\n",
       "</style>\n",
       "<table border=\"1\" class=\"dataframe\">\n",
       "  <thead>\n",
       "    <tr style=\"text-align: right;\">\n",
       "      <th></th>\n",
       "      <th>lname</th>\n",
       "      <th>city</th>\n",
       "    </tr>\n",
       "  </thead>\n",
       "  <tbody>\n",
       "    <tr>\n",
       "      <th>0</th>\n",
       "      <td>Potter</td>\n",
       "      <td>KNP</td>\n",
       "    </tr>\n",
       "    <tr>\n",
       "      <th>1</th>\n",
       "      <td>Williamson</td>\n",
       "      <td>LKO</td>\n",
       "    </tr>\n",
       "    <tr>\n",
       "      <th>2</th>\n",
       "      <td>Potter</td>\n",
       "      <td>LKO</td>\n",
       "    </tr>\n",
       "    <tr>\n",
       "      <th>3</th>\n",
       "      <td>Babbage</td>\n",
       "      <td>KNP</td>\n",
       "    </tr>\n",
       "    <tr>\n",
       "      <th>4</th>\n",
       "      <td>Potter</td>\n",
       "      <td>KNP</td>\n",
       "    </tr>\n",
       "  </tbody>\n",
       "</table>\n",
       "</div>"
      ],
      "text/plain": [
       "        lname city\n",
       "0      Potter  KNP\n",
       "1  Williamson  LKO\n",
       "2      Potter  LKO\n",
       "3     Babbage  KNP\n",
       "4      Potter  KNP"
      ]
     },
     "execution_count": 32,
     "metadata": {},
     "output_type": "execute_result"
    }
   ],
   "source": [
    "df1[['lname','city']]"
   ]
  },
  {
   "cell_type": "markdown",
   "id": "68b6bbf6-ba0a-403e-a2b0-0bb510957e2c",
   "metadata": {},
   "source": [
    "### Q.9. Find the details of students who lives in kanpur"
   ]
  },
  {
   "cell_type": "code",
   "execution_count": 35,
   "id": "01c78dbd-177b-441c-b8f5-e1af39edb83d",
   "metadata": {},
   "outputs": [
    {
     "data": {
      "text/html": [
       "<div>\n",
       "<style scoped>\n",
       "    .dataframe tbody tr th:only-of-type {\n",
       "        vertical-align: middle;\n",
       "    }\n",
       "\n",
       "    .dataframe tbody tr th {\n",
       "        vertical-align: top;\n",
       "    }\n",
       "\n",
       "    .dataframe thead th {\n",
       "        text-align: right;\n",
       "    }\n",
       "</style>\n",
       "<table border=\"1\" class=\"dataframe\">\n",
       "  <thead>\n",
       "    <tr style=\"text-align: right;\">\n",
       "      <th></th>\n",
       "      <th>fname</th>\n",
       "      <th>lname</th>\n",
       "      <th>age</th>\n",
       "      <th>city</th>\n",
       "    </tr>\n",
       "  </thead>\n",
       "  <tbody>\n",
       "    <tr>\n",
       "      <th>0</th>\n",
       "      <td>Alice</td>\n",
       "      <td>Potter</td>\n",
       "      <td>19</td>\n",
       "      <td>KNP</td>\n",
       "    </tr>\n",
       "    <tr>\n",
       "      <th>3</th>\n",
       "      <td>Sam</td>\n",
       "      <td>Babbage</td>\n",
       "      <td>22</td>\n",
       "      <td>KNP</td>\n",
       "    </tr>\n",
       "    <tr>\n",
       "      <th>4</th>\n",
       "      <td>Harry</td>\n",
       "      <td>Potter</td>\n",
       "      <td>23</td>\n",
       "      <td>KNP</td>\n",
       "    </tr>\n",
       "  </tbody>\n",
       "</table>\n",
       "</div>"
      ],
      "text/plain": [
       "   fname    lname  age city\n",
       "0  Alice   Potter   19  KNP\n",
       "3    Sam  Babbage   22  KNP\n",
       "4  Harry   Potter   23  KNP"
      ]
     },
     "execution_count": 35,
     "metadata": {},
     "output_type": "execute_result"
    }
   ],
   "source": [
    "df3 = df1[df1['city']=='KNP']\n",
    "df3"
   ]
  },
  {
   "cell_type": "markdown",
   "id": "1f3d4ef1-96f3-4c56-a5a2-2c0e5cf8cebe",
   "metadata": {},
   "source": [
    "### Q.10. Find the details of students where age is greater than 20"
   ]
  },
  {
   "cell_type": "code",
   "execution_count": 36,
   "id": "0bc82e1b-9e51-4c80-83cb-d1659c0feae5",
   "metadata": {},
   "outputs": [
    {
     "data": {
      "text/html": [
       "<div>\n",
       "<style scoped>\n",
       "    .dataframe tbody tr th:only-of-type {\n",
       "        vertical-align: middle;\n",
       "    }\n",
       "\n",
       "    .dataframe tbody tr th {\n",
       "        vertical-align: top;\n",
       "    }\n",
       "\n",
       "    .dataframe thead th {\n",
       "        text-align: right;\n",
       "    }\n",
       "</style>\n",
       "<table border=\"1\" class=\"dataframe\">\n",
       "  <thead>\n",
       "    <tr style=\"text-align: right;\">\n",
       "      <th></th>\n",
       "      <th>fname</th>\n",
       "      <th>lname</th>\n",
       "      <th>age</th>\n",
       "      <th>city</th>\n",
       "    </tr>\n",
       "  </thead>\n",
       "  <tbody>\n",
       "    <tr>\n",
       "      <th>1</th>\n",
       "      <td>Bob</td>\n",
       "      <td>Williamson</td>\n",
       "      <td>21</td>\n",
       "      <td>LKO</td>\n",
       "    </tr>\n",
       "    <tr>\n",
       "      <th>2</th>\n",
       "      <td>Charlie</td>\n",
       "      <td>Potter</td>\n",
       "      <td>22</td>\n",
       "      <td>LKO</td>\n",
       "    </tr>\n",
       "    <tr>\n",
       "      <th>3</th>\n",
       "      <td>Sam</td>\n",
       "      <td>Babbage</td>\n",
       "      <td>22</td>\n",
       "      <td>KNP</td>\n",
       "    </tr>\n",
       "    <tr>\n",
       "      <th>4</th>\n",
       "      <td>Harry</td>\n",
       "      <td>Potter</td>\n",
       "      <td>23</td>\n",
       "      <td>KNP</td>\n",
       "    </tr>\n",
       "  </tbody>\n",
       "</table>\n",
       "</div>"
      ],
      "text/plain": [
       "     fname       lname  age city\n",
       "1      Bob  Williamson   21  LKO\n",
       "2  Charlie      Potter   22  LKO\n",
       "3      Sam     Babbage   22  KNP\n",
       "4    Harry      Potter   23  KNP"
      ]
     },
     "execution_count": 36,
     "metadata": {},
     "output_type": "execute_result"
    }
   ],
   "source": [
    "df4 = df1[df1['age']>20]\n",
    "df4"
   ]
  },
  {
   "cell_type": "markdown",
   "id": "bac96bdb-2b34-439b-861f-10c01a58af3d",
   "metadata": {},
   "source": [
    "### Q.11. Find the first name of the students where age is greater than 20 years."
   ]
  },
  {
   "cell_type": "code",
   "execution_count": 38,
   "id": "4aff00ad-6b02-4c9b-9b17-d438db81698d",
   "metadata": {},
   "outputs": [
    {
     "data": {
      "text/plain": [
       "1        Bob\n",
       "2    Charlie\n",
       "3        Sam\n",
       "4      Harry\n",
       "Name: fname, dtype: object"
      ]
     },
     "execution_count": 38,
     "metadata": {},
     "output_type": "execute_result"
    }
   ],
   "source": [
    "df5 = df4['fname']\n",
    "df5"
   ]
  },
  {
   "cell_type": "markdown",
   "id": "44c2c081-d321-4157-a731-529e01d39691",
   "metadata": {},
   "source": [
    "### Q.12. Find first name and Last name of students where age is greater than 20"
   ]
  },
  {
   "cell_type": "code",
   "execution_count": 46,
   "id": "83b45293-102c-4150-826c-f75ff08c7201",
   "metadata": {},
   "outputs": [
    {
     "data": {
      "text/html": [
       "<div>\n",
       "<style scoped>\n",
       "    .dataframe tbody tr th:only-of-type {\n",
       "        vertical-align: middle;\n",
       "    }\n",
       "\n",
       "    .dataframe tbody tr th {\n",
       "        vertical-align: top;\n",
       "    }\n",
       "\n",
       "    .dataframe thead th {\n",
       "        text-align: right;\n",
       "    }\n",
       "</style>\n",
       "<table border=\"1\" class=\"dataframe\">\n",
       "  <thead>\n",
       "    <tr style=\"text-align: right;\">\n",
       "      <th></th>\n",
       "      <th>fname</th>\n",
       "      <th>lname</th>\n",
       "    </tr>\n",
       "  </thead>\n",
       "  <tbody>\n",
       "    <tr>\n",
       "      <th>1</th>\n",
       "      <td>Bob</td>\n",
       "      <td>Williamson</td>\n",
       "    </tr>\n",
       "    <tr>\n",
       "      <th>2</th>\n",
       "      <td>Charlie</td>\n",
       "      <td>Potter</td>\n",
       "    </tr>\n",
       "    <tr>\n",
       "      <th>3</th>\n",
       "      <td>Sam</td>\n",
       "      <td>Babbage</td>\n",
       "    </tr>\n",
       "    <tr>\n",
       "      <th>4</th>\n",
       "      <td>Harry</td>\n",
       "      <td>Potter</td>\n",
       "    </tr>\n",
       "  </tbody>\n",
       "</table>\n",
       "</div>"
      ],
      "text/plain": [
       "     fname       lname\n",
       "1      Bob  Williamson\n",
       "2  Charlie      Potter\n",
       "3      Sam     Babbage\n",
       "4    Harry      Potter"
      ]
     },
     "execution_count": 46,
     "metadata": {},
     "output_type": "execute_result"
    }
   ],
   "source": [
    "df6 = df1[df1['age']>20][['fname','lname']]\n",
    "df6"
   ]
  },
  {
   "cell_type": "markdown",
   "id": "da6f2bc8-df64-48ca-926f-14e6d7a52522",
   "metadata": {},
   "source": [
    "## Delete NaN values from a series"
   ]
  },
  {
   "cell_type": "code",
   "execution_count": 64,
   "id": "293cd8ce-9934-48be-9f6e-8475f0b4672b",
   "metadata": {},
   "outputs": [
    {
     "data": {
      "text/plain": [
       "Series([], dtype: float64)"
      ]
     },
     "execution_count": 64,
     "metadata": {},
     "output_type": "execute_result"
    }
   ],
   "source": [
    "s9 = s5.dropna()\n",
    "s9"
   ]
  },
  {
   "cell_type": "code",
   "execution_count": 65,
   "id": "a7d7279b-8748-47a8-aa8e-635d0861c32c",
   "metadata": {},
   "outputs": [
    {
     "data": {
      "text/plain": [
       "a    105.0\n",
       "b      0.0\n",
       "c      0.0\n",
       "d    205.0\n",
       "e      0.0\n",
       "f      0.0\n",
       "dtype: float64"
      ]
     },
     "execution_count": 65,
     "metadata": {},
     "output_type": "execute_result"
    }
   ],
   "source": [
    "s10 = s8.fillna(0)\n",
    "s10"
   ]
  },
  {
   "cell_type": "markdown",
   "id": "1f23b6a7-da84-424c-abcf-00a5dc010f7e",
   "metadata": {},
   "source": [
    "### Q.13. Find the first name and age of students who lives in Lucknow using loc method"
   ]
  },
  {
   "cell_type": "code",
   "execution_count": 70,
   "id": "75753984-eb55-4d9d-b89d-ee732b109422",
   "metadata": {},
   "outputs": [
    {
     "data": {
      "text/html": [
       "<div>\n",
       "<style scoped>\n",
       "    .dataframe tbody tr th:only-of-type {\n",
       "        vertical-align: middle;\n",
       "    }\n",
       "\n",
       "    .dataframe tbody tr th {\n",
       "        vertical-align: top;\n",
       "    }\n",
       "\n",
       "    .dataframe thead th {\n",
       "        text-align: right;\n",
       "    }\n",
       "</style>\n",
       "<table border=\"1\" class=\"dataframe\">\n",
       "  <thead>\n",
       "    <tr style=\"text-align: right;\">\n",
       "      <th></th>\n",
       "      <th>fname</th>\n",
       "      <th>age</th>\n",
       "    </tr>\n",
       "  </thead>\n",
       "  <tbody>\n",
       "    <tr>\n",
       "      <th>1</th>\n",
       "      <td>Bob</td>\n",
       "      <td>21</td>\n",
       "    </tr>\n",
       "    <tr>\n",
       "      <th>2</th>\n",
       "      <td>Charlie</td>\n",
       "      <td>22</td>\n",
       "    </tr>\n",
       "  </tbody>\n",
       "</table>\n",
       "</div>"
      ],
      "text/plain": [
       "     fname  age\n",
       "1      Bob   21\n",
       "2  Charlie   22"
      ]
     },
     "execution_count": 70,
     "metadata": {},
     "output_type": "execute_result"
    }
   ],
   "source": [
    "df7 = df1[df1['city']=='LKO'].loc[:,['fname','age']]\n",
    "df7"
   ]
  },
  {
   "cell_type": "code",
   "execution_count": 71,
   "id": "e9f1c521-bd8e-486a-9f4a-4b6569819fbd",
   "metadata": {},
   "outputs": [
    {
     "data": {
      "text/html": [
       "<div>\n",
       "<style scoped>\n",
       "    .dataframe tbody tr th:only-of-type {\n",
       "        vertical-align: middle;\n",
       "    }\n",
       "\n",
       "    .dataframe tbody tr th {\n",
       "        vertical-align: top;\n",
       "    }\n",
       "\n",
       "    .dataframe thead th {\n",
       "        text-align: right;\n",
       "    }\n",
       "</style>\n",
       "<table border=\"1\" class=\"dataframe\">\n",
       "  <thead>\n",
       "    <tr style=\"text-align: right;\">\n",
       "      <th></th>\n",
       "      <th>fname</th>\n",
       "      <th>lname</th>\n",
       "    </tr>\n",
       "  </thead>\n",
       "  <tbody>\n",
       "    <tr>\n",
       "      <th>1</th>\n",
       "      <td>Bob</td>\n",
       "      <td>Williamson</td>\n",
       "    </tr>\n",
       "    <tr>\n",
       "      <th>2</th>\n",
       "      <td>Charlie</td>\n",
       "      <td>Potter</td>\n",
       "    </tr>\n",
       "  </tbody>\n",
       "</table>\n",
       "</div>"
      ],
      "text/plain": [
       "     fname       lname\n",
       "1      Bob  Williamson\n",
       "2  Charlie      Potter"
      ]
     },
     "execution_count": 71,
     "metadata": {},
     "output_type": "execute_result"
    }
   ],
   "source": [
    "df8 = df1[df1['city']=='LKO'].iloc[:,[0,1]]\n",
    "df8"
   ]
  },
  {
   "cell_type": "markdown",
   "id": "52e85c25-4ee4-4b07-82b1-e19e95b895a4",
   "metadata": {},
   "source": [
    "## Miscellaneous actions on dataframes"
   ]
  },
  {
   "cell_type": "markdown",
   "id": "a91ba3a0-0673-4480-b2be-2e0516025b51",
   "metadata": {},
   "source": [
    "### Accessing the head of Dataframe"
   ]
  },
  {
   "cell_type": "code",
   "execution_count": 75,
   "id": "30614bfd-d829-42d4-b48a-15a836389ae9",
   "metadata": {},
   "outputs": [
    {
     "data": {
      "text/html": [
       "<div>\n",
       "<style scoped>\n",
       "    .dataframe tbody tr th:only-of-type {\n",
       "        vertical-align: middle;\n",
       "    }\n",
       "\n",
       "    .dataframe tbody tr th {\n",
       "        vertical-align: top;\n",
       "    }\n",
       "\n",
       "    .dataframe thead th {\n",
       "        text-align: right;\n",
       "    }\n",
       "</style>\n",
       "<table border=\"1\" class=\"dataframe\">\n",
       "  <thead>\n",
       "    <tr style=\"text-align: right;\">\n",
       "      <th></th>\n",
       "      <th>fname</th>\n",
       "      <th>lname</th>\n",
       "      <th>age</th>\n",
       "      <th>city</th>\n",
       "    </tr>\n",
       "  </thead>\n",
       "  <tbody>\n",
       "    <tr>\n",
       "      <th>0</th>\n",
       "      <td>Alice</td>\n",
       "      <td>Potter</td>\n",
       "      <td>19</td>\n",
       "      <td>KNP</td>\n",
       "    </tr>\n",
       "    <tr>\n",
       "      <th>1</th>\n",
       "      <td>Bob</td>\n",
       "      <td>Williamson</td>\n",
       "      <td>21</td>\n",
       "      <td>LKO</td>\n",
       "    </tr>\n",
       "    <tr>\n",
       "      <th>2</th>\n",
       "      <td>Charlie</td>\n",
       "      <td>Potter</td>\n",
       "      <td>22</td>\n",
       "      <td>LKO</td>\n",
       "    </tr>\n",
       "    <tr>\n",
       "      <th>3</th>\n",
       "      <td>Sam</td>\n",
       "      <td>Babbage</td>\n",
       "      <td>22</td>\n",
       "      <td>KNP</td>\n",
       "    </tr>\n",
       "    <tr>\n",
       "      <th>4</th>\n",
       "      <td>Harry</td>\n",
       "      <td>Potter</td>\n",
       "      <td>23</td>\n",
       "      <td>KNP</td>\n",
       "    </tr>\n",
       "  </tbody>\n",
       "</table>\n",
       "</div>"
      ],
      "text/plain": [
       "     fname       lname  age city\n",
       "0    Alice      Potter   19  KNP\n",
       "1      Bob  Williamson   21  LKO\n",
       "2  Charlie      Potter   22  LKO\n",
       "3      Sam     Babbage   22  KNP\n",
       "4    Harry      Potter   23  KNP"
      ]
     },
     "execution_count": 75,
     "metadata": {},
     "output_type": "execute_result"
    }
   ],
   "source": [
    "df1.head()"
   ]
  },
  {
   "cell_type": "code",
   "execution_count": 76,
   "id": "f651f928-a49c-4f4a-b271-14c76bdc70db",
   "metadata": {},
   "outputs": [
    {
     "data": {
      "text/html": [
       "<div>\n",
       "<style scoped>\n",
       "    .dataframe tbody tr th:only-of-type {\n",
       "        vertical-align: middle;\n",
       "    }\n",
       "\n",
       "    .dataframe tbody tr th {\n",
       "        vertical-align: top;\n",
       "    }\n",
       "\n",
       "    .dataframe thead th {\n",
       "        text-align: right;\n",
       "    }\n",
       "</style>\n",
       "<table border=\"1\" class=\"dataframe\">\n",
       "  <thead>\n",
       "    <tr style=\"text-align: right;\">\n",
       "      <th></th>\n",
       "      <th>fname</th>\n",
       "      <th>lname</th>\n",
       "      <th>age</th>\n",
       "      <th>city</th>\n",
       "    </tr>\n",
       "  </thead>\n",
       "  <tbody>\n",
       "    <tr>\n",
       "      <th>0</th>\n",
       "      <td>Alice</td>\n",
       "      <td>Potter</td>\n",
       "      <td>19</td>\n",
       "      <td>KNP</td>\n",
       "    </tr>\n",
       "    <tr>\n",
       "      <th>1</th>\n",
       "      <td>Bob</td>\n",
       "      <td>Williamson</td>\n",
       "      <td>21</td>\n",
       "      <td>LKO</td>\n",
       "    </tr>\n",
       "  </tbody>\n",
       "</table>\n",
       "</div>"
      ],
      "text/plain": [
       "   fname       lname  age city\n",
       "0  Alice      Potter   19  KNP\n",
       "1    Bob  Williamson   21  LKO"
      ]
     },
     "execution_count": 76,
     "metadata": {},
     "output_type": "execute_result"
    }
   ],
   "source": [
    "df1.head(2)"
   ]
  },
  {
   "cell_type": "markdown",
   "id": "6f4d9838-8740-4ea8-bf21-a63e16f92fa3",
   "metadata": {},
   "source": [
    "### Accessing the tail of Dataframe"
   ]
  },
  {
   "cell_type": "code",
   "execution_count": 78,
   "id": "b645c38f-6b0f-47ee-84b0-0be06a314ab6",
   "metadata": {},
   "outputs": [
    {
     "data": {
      "text/html": [
       "<div>\n",
       "<style scoped>\n",
       "    .dataframe tbody tr th:only-of-type {\n",
       "        vertical-align: middle;\n",
       "    }\n",
       "\n",
       "    .dataframe tbody tr th {\n",
       "        vertical-align: top;\n",
       "    }\n",
       "\n",
       "    .dataframe thead th {\n",
       "        text-align: right;\n",
       "    }\n",
       "</style>\n",
       "<table border=\"1\" class=\"dataframe\">\n",
       "  <thead>\n",
       "    <tr style=\"text-align: right;\">\n",
       "      <th></th>\n",
       "      <th>fname</th>\n",
       "      <th>lname</th>\n",
       "      <th>age</th>\n",
       "      <th>city</th>\n",
       "    </tr>\n",
       "  </thead>\n",
       "  <tbody>\n",
       "    <tr>\n",
       "      <th>0</th>\n",
       "      <td>Alice</td>\n",
       "      <td>Potter</td>\n",
       "      <td>19</td>\n",
       "      <td>KNP</td>\n",
       "    </tr>\n",
       "    <tr>\n",
       "      <th>1</th>\n",
       "      <td>Bob</td>\n",
       "      <td>Williamson</td>\n",
       "      <td>21</td>\n",
       "      <td>LKO</td>\n",
       "    </tr>\n",
       "    <tr>\n",
       "      <th>2</th>\n",
       "      <td>Charlie</td>\n",
       "      <td>Potter</td>\n",
       "      <td>22</td>\n",
       "      <td>LKO</td>\n",
       "    </tr>\n",
       "    <tr>\n",
       "      <th>3</th>\n",
       "      <td>Sam</td>\n",
       "      <td>Babbage</td>\n",
       "      <td>22</td>\n",
       "      <td>KNP</td>\n",
       "    </tr>\n",
       "    <tr>\n",
       "      <th>4</th>\n",
       "      <td>Harry</td>\n",
       "      <td>Potter</td>\n",
       "      <td>23</td>\n",
       "      <td>KNP</td>\n",
       "    </tr>\n",
       "  </tbody>\n",
       "</table>\n",
       "</div>"
      ],
      "text/plain": [
       "     fname       lname  age city\n",
       "0    Alice      Potter   19  KNP\n",
       "1      Bob  Williamson   21  LKO\n",
       "2  Charlie      Potter   22  LKO\n",
       "3      Sam     Babbage   22  KNP\n",
       "4    Harry      Potter   23  KNP"
      ]
     },
     "execution_count": 78,
     "metadata": {},
     "output_type": "execute_result"
    }
   ],
   "source": [
    "df1.tail()"
   ]
  },
  {
   "cell_type": "markdown",
   "id": "797d978b-d441-4ee2-aabd-7069c520ff71",
   "metadata": {},
   "source": [
    "### Get info about the Dataset"
   ]
  },
  {
   "cell_type": "code",
   "execution_count": 79,
   "id": "ea20d001-6d64-45f1-be70-e5fc5ade0f45",
   "metadata": {},
   "outputs": [
    {
     "name": "stdout",
     "output_type": "stream",
     "text": [
      "<class 'pandas.core.frame.DataFrame'>\n",
      "RangeIndex: 5 entries, 0 to 4\n",
      "Data columns (total 4 columns):\n",
      " #   Column  Non-Null Count  Dtype \n",
      "---  ------  --------------  ----- \n",
      " 0   fname   5 non-null      object\n",
      " 1   lname   5 non-null      object\n",
      " 2   age     5 non-null      int64 \n",
      " 3   city    5 non-null      object\n",
      "dtypes: int64(1), object(3)\n",
      "memory usage: 292.0+ bytes\n"
     ]
    }
   ],
   "source": [
    "df1.info()"
   ]
  },
  {
   "cell_type": "code",
   "execution_count": null,
   "id": "3edf2e6d-ec63-43ca-b886-7a3e87b568de",
   "metadata": {},
   "outputs": [],
   "source": []
  }
 ],
 "metadata": {
  "kernelspec": {
   "display_name": "Python 3 (ipykernel)",
   "language": "python",
   "name": "python3"
  },
  "language_info": {
   "codemirror_mode": {
    "name": "ipython",
    "version": 3
   },
   "file_extension": ".py",
   "mimetype": "text/x-python",
   "name": "python",
   "nbconvert_exporter": "python",
   "pygments_lexer": "ipython3",
   "version": "3.12.0"
  }
 },
 "nbformat": 4,
 "nbformat_minor": 5
}

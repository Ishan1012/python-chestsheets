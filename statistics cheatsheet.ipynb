{
 "cells": [
  {
   "cell_type": "markdown",
   "id": "980a7053-6b35-4f18-8c15-f3b0eed09e4d",
   "metadata": {},
   "source": [
    "# Statistics For Data Analytics Cheatsheet\n",
    "\n",
    "1. Measure of `Centeral Tendency`\n",
    "- Mean - Continuous and **absence of outliers**\n",
    "- Median - Continuous data and presence of outliers, applied on **sorted data**\n",
    "- Mode - Most frequent data for **categorical data**\n",
    "\n",
    "2. Measure of `Dispersion`\n",
    "- Descriptive - what **already happened** in the past\n",
    "- Diagnostic - **why** something happened in the past\n",
    "- Predictive - what **may happen** in the future\n",
    "- Prescriptive - how to convert **prediction into reality**"
   ]
  },
  {
   "cell_type": "markdown",
   "id": "f1f3330f-371d-447f-8223-fadc07a50189",
   "metadata": {},
   "source": [
    "## Importing modules"
   ]
  },
  {
   "cell_type": "code",
   "execution_count": 1,
   "id": "504079ab-f1f7-4990-b44d-59715a302d03",
   "metadata": {},
   "outputs": [],
   "source": [
    "import numpy\n",
    "from scipy import stats\n",
    "import seaborn as sns\n",
    "import matplotlib.pyplot as plt\n",
    "import pandas as pd"
   ]
  },
  {
   "cell_type": "markdown",
   "id": "a7d1bc0b-4655-404b-88c5-1ab0ebf6a4de",
   "metadata": {},
   "source": [
    "## Extracting dataset from the `.csv` file"
   ]
  },
  {
   "cell_type": "code",
   "execution_count": 2,
   "id": "43eebe84-f243-4964-829b-aeeff4ed118c",
   "metadata": {},
   "outputs": [
    {
     "data": {
      "text/html": [
       "<div>\n",
       "<style scoped>\n",
       "    .dataframe tbody tr th:only-of-type {\n",
       "        vertical-align: middle;\n",
       "    }\n",
       "\n",
       "    .dataframe tbody tr th {\n",
       "        vertical-align: top;\n",
       "    }\n",
       "\n",
       "    .dataframe thead th {\n",
       "        text-align: right;\n",
       "    }\n",
       "</style>\n",
       "<table border=\"1\" class=\"dataframe\">\n",
       "  <thead>\n",
       "    <tr style=\"text-align: right;\">\n",
       "      <th></th>\n",
       "      <th>Price1</th>\n",
       "      <th>Price2</th>\n",
       "      <th>Delivery_Time1</th>\n",
       "      <th>Delivery_Time2</th>\n",
       "    </tr>\n",
       "  </thead>\n",
       "  <tbody>\n",
       "    <tr>\n",
       "      <th>0</th>\n",
       "      <td>204.97</td>\n",
       "      <td>211.42</td>\n",
       "      <td>31.2</td>\n",
       "      <td>30.1</td>\n",
       "    </tr>\n",
       "    <tr>\n",
       "      <th>1</th>\n",
       "      <td>198.62</td>\n",
       "      <td>222.71</td>\n",
       "      <td>35.7</td>\n",
       "      <td>34.1</td>\n",
       "    </tr>\n",
       "    <tr>\n",
       "      <th>2</th>\n",
       "      <td>206.48</td>\n",
       "      <td>219.08</td>\n",
       "      <td>30.5</td>\n",
       "      <td>28.1</td>\n",
       "    </tr>\n",
       "    <tr>\n",
       "      <th>3</th>\n",
       "      <td>215.23</td>\n",
       "      <td>213.03</td>\n",
       "      <td>30.8</td>\n",
       "      <td>31.9</td>\n",
       "    </tr>\n",
       "    <tr>\n",
       "      <th>4</th>\n",
       "      <td>197.66</td>\n",
       "      <td>193.69</td>\n",
       "      <td>29.8</td>\n",
       "      <td>29.2</td>\n",
       "    </tr>\n",
       "  </tbody>\n",
       "</table>\n",
       "</div>"
      ],
      "text/plain": [
       "   Price1  Price2  Delivery_Time1  Delivery_Time2\n",
       "0  204.97  211.42            31.2            30.1\n",
       "1  198.62  222.71            35.7            34.1\n",
       "2  206.48  219.08            30.5            28.1\n",
       "3  215.23  213.03            30.8            31.9\n",
       "4  197.66  193.69            29.8            29.2"
      ]
     },
     "execution_count": 2,
     "metadata": {},
     "output_type": "execute_result"
    }
   ],
   "source": [
    "df = pd.read_csv('FoodChain_ComparativeDataset.csv')\n",
    "df.head()"
   ]
  },
  {
   "cell_type": "markdown",
   "id": "eb1fe4e9-9faa-45cc-aa74-6f6c3a38f109",
   "metadata": {},
   "source": [
    "## Measure of Dispersion"
   ]
  },
  {
   "cell_type": "markdown",
   "id": "22812428-8c40-499d-ab0b-253a7ac48266",
   "metadata": {},
   "source": [
    "### Getting mean value of both delivery times"
   ]
  },
  {
   "cell_type": "code",
   "execution_count": 3,
   "id": "32ddbbf8-1141-4ef9-95af-f8e0f0d0bd6e",
   "metadata": {},
   "outputs": [
    {
     "name": "stdout",
     "output_type": "stream",
     "text": [
      "30.331428571428567\n",
      "30.288571428571426\n"
     ]
    }
   ],
   "source": [
    "mean1 = df['Delivery_Time1'].mean()\n",
    "print(mean1)\n",
    "mean2 = df['Delivery_Time2'].mean()\n",
    "print(mean2)"
   ]
  },
  {
   "cell_type": "markdown",
   "id": "0dc9b0f1-00f0-4128-ba35-e9d255e708b1",
   "metadata": {},
   "source": [
    "### Getting deviation value of both delivery times"
   ]
  },
  {
   "cell_type": "code",
   "execution_count": 4,
   "id": "48d73259-07f0-45c7-8d1e-b15664094199",
   "metadata": {},
   "outputs": [
    {
     "name": "stdout",
     "output_type": "stream",
     "text": [
      "3.046603224706363\n",
      "5.420621492286411\n"
     ]
    }
   ],
   "source": [
    "std1 = df['Delivery_Time1'].std()\n",
    "print(std1)\n",
    "std2 = df['Delivery_Time2'].std()\n",
    "print(std2)"
   ]
  },
  {
   "cell_type": "markdown",
   "id": "a54a7b0c-dc63-407c-b55c-4ac6c49b7848",
   "metadata": {},
   "source": [
    "### Q.1. Tell the store that gives consistent pricing and that gives dynamic pricing\n",
    "\n",
    "After analyzing below results\n",
    "- consistent pricing: outlet 1\n",
    "- dynamic pricing: outlet 2"
   ]
  },
  {
   "cell_type": "code",
   "execution_count": 5,
   "id": "468d0995-d9c9-4c3c-93f7-39dd5c7679fe",
   "metadata": {},
   "outputs": [
    {
     "name": "stdout",
     "output_type": "stream",
     "text": [
      "198.7118095238095 201.0047619047619\n"
     ]
    }
   ],
   "source": [
    "mean_price1 = df['Price1'].mean()\n",
    "mean_price2 = df['Price2'].mean()\n",
    "\n",
    "print(mean_price1, mean_price2)"
   ]
  },
  {
   "cell_type": "code",
   "execution_count": 6,
   "id": "bcd30b1e-9da4-47c4-8fd0-78c23d73908f",
   "metadata": {},
   "outputs": [
    {
     "name": "stdout",
     "output_type": "stream",
     "text": [
      "8.985142948752891 19.99821545380978\n"
     ]
    }
   ],
   "source": [
    "std_price1 = df['Price1'].std()\n",
    "std_price2 = df['Price2'].std()\n",
    "\n",
    "print(std_price1, std_price2)"
   ]
  },
  {
   "cell_type": "markdown",
   "id": "a8cd1760-f21d-43c1-9362-a74f83d075b8",
   "metadata": {},
   "source": [
    "### Q.2 Tell the range of price and time for both of the stores"
   ]
  },
  {
   "cell_type": "code",
   "execution_count": 7,
   "id": "851c7aca-e048-4239-9903-d8b5215fa679",
   "metadata": {},
   "outputs": [
    {
     "name": "stdout",
     "output_type": "stream",
     "text": [
      "Range of Price for outlet1: 44.72\n",
      "Range of Price for outlet2: 111.12\n"
     ]
    }
   ],
   "source": [
    "min_price1 = df['Price1'].min()\n",
    "max_price1 = df['Price1'].max()\n",
    "min_price2 = df['Price2'].min()\n",
    "max_price2 = df['Price2'].max()\n",
    "\n",
    "print(\"Range of Price for outlet1:\",max_price1 - min_price1)\n",
    "print(\"Range of Price for outlet2:\",max_price2 - min_price2)"
   ]
  },
  {
   "cell_type": "code",
   "execution_count": 8,
   "id": "6968d44b-4677-4060-8388-b5c411a59a40",
   "metadata": {},
   "outputs": [
    {
     "name": "stdout",
     "output_type": "stream",
     "text": [
      "Range of Time for outlet1: 17.400000000000002\n",
      "Range of Time for outlet2: 25.8\n"
     ]
    }
   ],
   "source": [
    "min_time1 = df['Delivery_Time1'].min()\n",
    "max_time1 = df['Delivery_Time1'].max()\n",
    "min_time2 = df['Delivery_Time2'].min()\n",
    "max_time2 = df['Delivery_Time2'].max()\n",
    "\n",
    "print(\"Range of Time for outlet1:\",max_time1 - min_time1)\n",
    "print(\"Range of Time for outlet2:\",max_time2 - min_time2)"
   ]
  },
  {
   "cell_type": "markdown",
   "id": "195a2fe6-5c8f-4fa2-a315-31f81c923a79",
   "metadata": {},
   "source": [
    "### Getting `IQR` (Inter Quartile Range) for price and time of both outlets"
   ]
  },
  {
   "cell_type": "code",
   "execution_count": 9,
   "id": "161b893a-7561-4b5b-89fb-7dddee5a5f2e",
   "metadata": {},
   "outputs": [
    {
     "name": "stdout",
     "output_type": "stream",
     "text": [
      "9.640000000000015 27.629999999999995\n",
      "4.199999999999999 7.300000000000004\n"
     ]
    }
   ],
   "source": [
    "iqr_price1 = stats.iqr(df['Price1'])\n",
    "iqr_price2 = stats.iqr(df['Price2'])\n",
    "iqr_time1 = stats.iqr(df['Delivery_Time1'])\n",
    "iqr_time2 = stats.iqr(df['Delivery_Time2'])\n",
    "\n",
    "print(iqr_price1,iqr_price2)\n",
    "print(iqr_time1,iqr_time2)"
   ]
  },
  {
   "cell_type": "markdown",
   "id": "556b7285-1cb7-4c51-8069-cfd54b771363",
   "metadata": {},
   "source": [
    "## Getting Information about the DataFrame"
   ]
  },
  {
   "cell_type": "code",
   "execution_count": 10,
   "id": "f27fc46d-1214-4715-a92a-d57eb2259036",
   "metadata": {},
   "outputs": [
    {
     "data": {
      "text/html": [
       "<div>\n",
       "<style scoped>\n",
       "    .dataframe tbody tr th:only-of-type {\n",
       "        vertical-align: middle;\n",
       "    }\n",
       "\n",
       "    .dataframe tbody tr th {\n",
       "        vertical-align: top;\n",
       "    }\n",
       "\n",
       "    .dataframe thead th {\n",
       "        text-align: right;\n",
       "    }\n",
       "</style>\n",
       "<table border=\"1\" class=\"dataframe\">\n",
       "  <thead>\n",
       "    <tr style=\"text-align: right;\">\n",
       "      <th></th>\n",
       "      <th>Price1</th>\n",
       "      <th>Price2</th>\n",
       "      <th>Delivery_Time1</th>\n",
       "      <th>Delivery_Time2</th>\n",
       "    </tr>\n",
       "  </thead>\n",
       "  <tbody>\n",
       "    <tr>\n",
       "      <th>count</th>\n",
       "      <td>105.000000</td>\n",
       "      <td>105.000000</td>\n",
       "      <td>105.000000</td>\n",
       "      <td>105.000000</td>\n",
       "    </tr>\n",
       "    <tr>\n",
       "      <th>mean</th>\n",
       "      <td>198.711810</td>\n",
       "      <td>201.004762</td>\n",
       "      <td>30.331429</td>\n",
       "      <td>30.288571</td>\n",
       "    </tr>\n",
       "    <tr>\n",
       "      <th>std</th>\n",
       "      <td>8.985143</td>\n",
       "      <td>19.998215</td>\n",
       "      <td>3.046603</td>\n",
       "      <td>5.420621</td>\n",
       "    </tr>\n",
       "    <tr>\n",
       "      <th>min</th>\n",
       "      <td>173.800000</td>\n",
       "      <td>135.170000</td>\n",
       "      <td>24.200000</td>\n",
       "      <td>17.300000</td>\n",
       "    </tr>\n",
       "    <tr>\n",
       "      <th>25%</th>\n",
       "      <td>193.980000</td>\n",
       "      <td>187.550000</td>\n",
       "      <td>27.700000</td>\n",
       "      <td>26.400000</td>\n",
       "    </tr>\n",
       "    <tr>\n",
       "      <th>50%</th>\n",
       "      <td>198.140000</td>\n",
       "      <td>201.400000</td>\n",
       "      <td>30.600000</td>\n",
       "      <td>30.100000</td>\n",
       "    </tr>\n",
       "    <tr>\n",
       "      <th>75%</th>\n",
       "      <td>203.620000</td>\n",
       "      <td>215.180000</td>\n",
       "      <td>31.900000</td>\n",
       "      <td>33.700000</td>\n",
       "    </tr>\n",
       "    <tr>\n",
       "      <th>max</th>\n",
       "      <td>218.520000</td>\n",
       "      <td>246.290000</td>\n",
       "      <td>41.600000</td>\n",
       "      <td>43.100000</td>\n",
       "    </tr>\n",
       "  </tbody>\n",
       "</table>\n",
       "</div>"
      ],
      "text/plain": [
       "           Price1      Price2  Delivery_Time1  Delivery_Time2\n",
       "count  105.000000  105.000000      105.000000      105.000000\n",
       "mean   198.711810  201.004762       30.331429       30.288571\n",
       "std      8.985143   19.998215        3.046603        5.420621\n",
       "min    173.800000  135.170000       24.200000       17.300000\n",
       "25%    193.980000  187.550000       27.700000       26.400000\n",
       "50%    198.140000  201.400000       30.600000       30.100000\n",
       "75%    203.620000  215.180000       31.900000       33.700000\n",
       "max    218.520000  246.290000       41.600000       43.100000"
      ]
     },
     "execution_count": 10,
     "metadata": {},
     "output_type": "execute_result"
    }
   ],
   "source": [
    "df.describe()"
   ]
  },
  {
   "cell_type": "markdown",
   "id": "547697aa-4f51-4926-a2a8-a5ac8923976a",
   "metadata": {},
   "source": [
    "## Making `histplot` for the **Price1** column"
   ]
  },
  {
   "cell_type": "code",
   "execution_count": 11,
   "id": "c3ecdb8c-aa59-4f06-b885-fae0c01959e4",
   "metadata": {},
   "outputs": [
    {
     "name": "stdout",
     "output_type": "stream",
     "text": [
      "198.7118095238095 198.14\n"
     ]
    },
    {
     "data": {
      "image/png": "[encoded data removed]",
      "text/plain": [
       "<Figure size 640x480 with 1 Axes>"
      ]
     },
     "metadata": {},
     "output_type": "display_data"
    }
   ],
   "source": [
    "col=\"Price1\"\n",
    "data = df[col]\n",
    "mean, median = data.mean(), data.median()\n",
    "print(mean, median)\n",
    "\n",
    "sns.histplot(data, kde=True, bins=10, color='blue')\n",
    "\n",
    "plt.axvline(mean, color=\"red\", linestyle=\"--\")\n",
    "plt.axvline(median, color=\"green\", linestyle=\"--\")\n",
    "\n",
    "plt.title(f\"empirical Rule Demonstration - {col}\")\n",
    "plt.show()"
   ]
  },
  {
   "cell_type": "code",
   "execution_count": null,
   "id": "cfe7ecf9-3329-4f9c-8af8-49eadfc22f34",
   "metadata": {},
   "outputs": [],
   "source": []
  }
 ],
 "metadata": {
  "kernelspec": {
   "display_name": "Python 3 (ipykernel)",
   "language": "python",
   "name": "python3"
  },
  "language_info": {
   "codemirror_mode": {
    "name": "ipython",
    "version": 3
   },
   "file_extension": ".py",
   "mimetype": "text/x-python",
   "name": "python",
   "nbconvert_exporter": "python",
   "pygments_lexer": "ipython3",
   "version": "3.12.0"
  }
 },
 "nbformat": 4,
 "nbformat_minor": 5
}

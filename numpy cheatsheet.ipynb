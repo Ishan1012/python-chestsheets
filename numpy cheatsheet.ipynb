{
 "cells": [
  {
   "cell_type": "markdown",
   "id": "50d5614a-66f4-407f-ba29-fcd59f33a2b5",
   "metadata": {},
   "source": [
    "# NUMPY CHEATSHEET"
   ]
  },
  {
   "cell_type": "markdown",
   "id": "6eb629c9-93e6-481a-a419-bcf7ad4d7d40",
   "metadata": {},
   "source": [
    "## Importing numpy module using alias \"np\""
   ]
  },
  {
   "cell_type": "code",
   "execution_count": 1,
   "id": "6c545d71-1481-41dd-86b9-b1d1fd4b97c1",
   "metadata": {},
   "outputs": [],
   "source": [
    "import numpy as np"
   ]
  },
  {
   "cell_type": "markdown",
   "id": "0da8edfa-4e9f-42b6-b772-1ac86e32e886",
   "metadata": {},
   "source": [
    "## Create a numpy array using list"
   ]
  },
  {
   "cell_type": "code",
   "execution_count": 2,
   "id": "cdf568aa-cbe4-432e-b0fc-552958fd5a16",
   "metadata": {},
   "outputs": [
    {
     "data": {
      "text/plain": [
       "array([1, 2, 3, 4, 5])"
      ]
     },
     "execution_count": 2,
     "metadata": {},
     "output_type": "execute_result"
    }
   ],
   "source": [
    "list1 = [1,2,3,4,5]\n",
    "n1 = np.array(list1)\n",
    "n1"
   ]
  },
  {
   "cell_type": "markdown",
   "id": "c81e5ab6-8f4e-4b7e-8cec-7fcbea5950d3",
   "metadata": {},
   "source": [
    "## Create a numpy array using 2-d list"
   ]
  },
  {
   "cell_type": "code",
   "execution_count": 3,
   "id": "d30417cf-8c1e-4b08-b0d6-defdb4f17843",
   "metadata": {},
   "outputs": [
    {
     "data": {
      "text/plain": [
       "array([[1, 2, 3, 4, 5],\n",
       "       [4, 5, 6, 7, 8]])"
      ]
     },
     "execution_count": 3,
     "metadata": {},
     "output_type": "execute_result"
    }
   ],
   "source": [
    "list1 = [1,2,3,4,5]\n",
    "list2 = [4,5,6,7,8]\n",
    "n1 = np.array([list1,list2])\n",
    "n1"
   ]
  },
  {
   "cell_type": "markdown",
   "id": "58c66992-ced1-4dca-aa36-d88cc3c40651",
   "metadata": {},
   "source": [
    "## Attributes of nd array"
   ]
  },
  {
   "cell_type": "code",
   "execution_count": 4,
   "id": "2eccdf27-bf46-4e77-9063-1ff2ed4e4509",
   "metadata": {},
   "outputs": [
    {
     "name": "stdout",
     "output_type": "stream",
     "text": [
      "Shape =  (2, 5) \n",
      "Size =  10 \n",
      "Dimension =  2 \n",
      "DType int64\n"
     ]
    }
   ],
   "source": [
    "print(\"Shape = \",n1.shape,\"\\nSize = \",n1.size,\"\\nDimension = \",n1.ndim,\"\\nDType\",n1.dtype)"
   ]
  },
  {
   "cell_type": "markdown",
   "id": "fe64b8cd-65a3-453c-8010-a6fca9dd25ed",
   "metadata": {},
   "source": [
    "## Create 2 1-d arrays each of 5 elements and apply vector operations like addition or substraction"
   ]
  },
  {
   "cell_type": "code",
   "execution_count": 5,
   "id": "488c86d3-e6ea-4622-90fa-aa1295c5adc4",
   "metadata": {},
   "outputs": [
    {
     "name": "stdout",
     "output_type": "stream",
     "text": [
      "Addition [ 2  2  5 13  8 14 11 15 14  6]\n",
      "Substraction [ 0  2  1 -5  2 -2  3  1  4 -6]\n"
     ]
    }
   ],
   "source": [
    "n1 = np.array([1,2,3,4,5,6,7,8,9,0])\n",
    "n2 = np.array([1,0,2,9,3,8,4,7,5,6])\n",
    "\n",
    "print(\"Addition\",n1+n2)\n",
    "print(\"Substraction\",n1-n2)"
   ]
  },
  {
   "cell_type": "markdown",
   "id": "ed597db7-7264-423e-948e-afa6917cd266",
   "metadata": {},
   "source": [
    "## Create arrays of ones, zeros, identity matrix"
   ]
  },
  {
   "cell_type": "code",
   "execution_count": 6,
   "id": "70726f2e-8557-4fd4-88da-a5db55f91fe6",
   "metadata": {},
   "outputs": [
    {
     "name": "stdout",
     "output_type": "stream",
     "text": [
      "[[0 0 0]\n",
      " [0 0 0]]\n",
      "[[1 1 1]\n",
      " [1 1 1]]\n",
      "[[1 0 0]\n",
      " [0 1 0]\n",
      " [0 0 1]]\n"
     ]
    }
   ],
   "source": [
    "c1 = np.zeros((2,3),dtype=int)\n",
    "print(c1)\n",
    "c1 = np.ones((2,3),dtype=int)\n",
    "print(c1)\n",
    "c1 = np.eye(3, dtype=int)\n",
    "print(c1)"
   ]
  },
  {
   "cell_type": "markdown",
   "id": "464b42c2-9a83-4db0-86c3-d15329e2bc72",
   "metadata": {},
   "source": [
    "### Create a matrix with all 1 values of shape (3,2)"
   ]
  },
  {
   "cell_type": "code",
   "execution_count": 7,
   "id": "1af63666-2d7e-42d9-82c7-3f01577f0a26",
   "metadata": {},
   "outputs": [
    {
     "name": "stdout",
     "output_type": "stream",
     "text": [
      "[[1 1]\n",
      " [1 1]\n",
      " [1 1]]\n"
     ]
    }
   ],
   "source": [
    "c2 = np.ones((3,2),dtype=int)\n",
    "print(c2)"
   ]
  },
  {
   "cell_type": "markdown",
   "id": "971db77e-151a-4d65-bc35-a8d85892660c",
   "metadata": {},
   "source": [
    "### Create a 3d array of shape (4,3,2) with all 0 elements"
   ]
  },
  {
   "cell_type": "code",
   "execution_count": 8,
   "id": "6034a211-aebf-44f2-be76-5263c78877b6",
   "metadata": {},
   "outputs": [
    {
     "name": "stdout",
     "output_type": "stream",
     "text": [
      "[[[0 0]\n",
      "  [0 0]\n",
      "  [0 0]]\n",
      "\n",
      " [[0 0]\n",
      "  [0 0]\n",
      "  [0 0]]\n",
      "\n",
      " [[0 0]\n",
      "  [0 0]\n",
      "  [0 0]]\n",
      "\n",
      " [[0 0]\n",
      "  [0 0]\n",
      "  [0 0]]]\n"
     ]
    }
   ],
   "source": [
    "c3 = np.zeros((4,3,2),dtype=int)\n",
    "print(c3)"
   ]
  },
  {
   "cell_type": "markdown",
   "id": "fc02c21f-9442-4a91-961f-0a19f66749c5",
   "metadata": {},
   "source": [
    "### Create an identity matrix using eye method"
   ]
  },
  {
   "cell_type": "code",
   "execution_count": 9,
   "id": "7a88a655-20d0-4b35-8630-59b2f33b0061",
   "metadata": {},
   "outputs": [
    {
     "name": "stdout",
     "output_type": "stream",
     "text": [
      "[[1 0 0]\n",
      " [0 1 0]\n",
      " [0 0 1]]\n"
     ]
    }
   ],
   "source": [
    "c3 = np.eye(3,dtype=int)\n",
    "print(c3)"
   ]
  },
  {
   "cell_type": "markdown",
   "id": "51a35d0b-dfa1-467d-8c32-a429a9ee32e1",
   "metadata": {},
   "source": [
    "## Comparison in numpy array"
   ]
  },
  {
   "cell_type": "code",
   "execution_count": 10,
   "id": "f5679362-7196-42d3-9242-c759b999b451",
   "metadata": {},
   "outputs": [
    {
     "name": "stdout",
     "output_type": "stream",
     "text": [
      "[False  True  True  True]\n"
     ]
    }
   ],
   "source": [
    "p1=np.array([10,20,30,40])\n",
    "print(p1>15)"
   ]
  },
  {
   "cell_type": "markdown",
   "id": "3be68136-d012-4fcb-bf21-e73306fee39c",
   "metadata": {},
   "source": [
    "### Apply logical NOT Operation on an input array"
   ]
  },
  {
   "cell_type": "code",
   "execution_count": 11,
   "id": "d94404c5-0d82-4eaf-95f7-245e2f6db635",
   "metadata": {},
   "outputs": [
    {
     "name": "stdout",
     "output_type": "stream",
     "text": [
      "[[False  True  True]\n",
      " [ True False  True]\n",
      " [ True  True False]] [[0 1 1]\n",
      " [1 0 1]\n",
      " [1 1 0]]\n"
     ]
    }
   ],
   "source": [
    "c1 = np.eye(3, dtype=int)\n",
    "c2 = np.logical_not(c1)\n",
    "c3 = c2.astype(int)\n",
    "print(c2,c3,)"
   ]
  },
  {
   "cell_type": "markdown",
   "id": "5ff61555-515b-453d-8e23-ce691e319732",
   "metadata": {},
   "source": [
    "### Create an array of 3 elements 5, 7 and 9. Create deep and shallow copy pf this array."
   ]
  },
  {
   "cell_type": "code",
   "execution_count": 12,
   "id": "b370d15b-e4d7-40cd-b94f-82f5c1278ca4",
   "metadata": {},
   "outputs": [
    {
     "name": "stdout",
     "output_type": "stream",
     "text": [
      "[5 7 9] [5 7 9]\n"
     ]
    }
   ],
   "source": [
    "x = np.array([5,7,9])\n",
    "x1 = x.view()\n",
    "x2 = x.copy()\n",
    "\n",
    "print(x1,x2)"
   ]
  },
  {
   "cell_type": "markdown",
   "id": "ac88d04f-3611-4762-95e8-5e97151836e4",
   "metadata": {},
   "source": [
    "### Broadcasting*"
   ]
  },
  {
   "cell_type": "code",
   "execution_count": 13,
   "id": "73d6074a-b595-49fd-95ae-cc13affcb082",
   "metadata": {},
   "outputs": [
    {
     "name": "stdout",
     "output_type": "stream",
     "text": [
      "[10 12 14]\n"
     ]
    }
   ],
   "source": [
    "x3 = x+5\n",
    "print(x3)"
   ]
  },
  {
   "cell_type": "markdown",
   "id": "4180f5a2-d902-4e52-8d36-22e5033bdcab",
   "metadata": {},
   "source": [
    "## Resizingof array"
   ]
  },
  {
   "cell_type": "markdown",
   "id": "486ee6ea-b02b-4bd9-b248-2e00b212c1d7",
   "metadata": {},
   "source": [
    "### Create a 2d array of shape 4x2 and reshape it into 2x4"
   ]
  },
  {
   "cell_type": "code",
   "execution_count": 14,
   "id": "ac5e2e90-d727-4799-af9d-feb04f715d6b",
   "metadata": {},
   "outputs": [
    {
     "name": "stdout",
     "output_type": "stream",
     "text": [
      "[[1 2 1 2]\n",
      " [1 2 1 2]]\n"
     ]
    }
   ],
   "source": [
    "list1 = [\n",
    "    [1,2],\n",
    "    [1,2],\n",
    "    [1,2],\n",
    "    [1,2],\n",
    "]\n",
    "\n",
    "y = np.array(list1)\n",
    "z = y.reshape((2,4))\n",
    "print(z)"
   ]
  },
  {
   "cell_type": "code",
   "execution_count": 15,
   "id": "12e4e78a-49c2-489d-ab78-3957fcb2e4a7",
   "metadata": {},
   "outputs": [
    {
     "name": "stdout",
     "output_type": "stream",
     "text": [
      "[1 2 1 2 1 2 1 2]\n"
     ]
    }
   ],
   "source": [
    "z1 = y.ravel()\n",
    "print(z1)"
   ]
  },
  {
   "cell_type": "markdown",
   "id": "cccdd2ca-080d-4da1-9043-eeceb7a3ee41",
   "metadata": {},
   "source": [
    "## Indexing and slicing"
   ]
  },
  {
   "cell_type": "markdown",
   "id": "71470ede-8a0b-4ccc-aac1-760b5c826b2d",
   "metadata": {},
   "source": [
    "### Consider a 2d array of shape 2x4 and apply indexing and slicing"
   ]
  },
  {
   "cell_type": "code",
   "execution_count": 16,
   "id": "2beba846-b753-456a-8da5-ef518c89168b",
   "metadata": {},
   "outputs": [
    {
     "name": "stdout",
     "output_type": "stream",
     "text": [
      "[1 1] [1 2 1 2] [[2 1]\n",
      " [2 1]]\n"
     ]
    }
   ],
   "source": [
    "print(z[:,0],z[1,:],z[:,1:3])"
   ]
  },
  {
   "cell_type": "code",
   "execution_count": null,
   "id": "5231f3fb-2aeb-45d3-ab47-3cb83fe170ac",
   "metadata": {},
   "outputs": [],
   "source": []
  }
 ],
 "metadata": {
  "kernelspec": {
   "display_name": "Python 3 (ipykernel)",
   "language": "python",
   "name": "python3"
  },
  "language_info": {
   "codemirror_mode": {
    "name": "ipython",
    "version": 3
   },
   "file_extension": ".py",
   "mimetype": "text/x-python",
   "name": "python",
   "nbconvert_exporter": "python",
   "pygments_lexer": "ipython3",
   "version": "3.12.0"
  }
 },
 "nbformat": 4,
 "nbformat_minor": 5
}
